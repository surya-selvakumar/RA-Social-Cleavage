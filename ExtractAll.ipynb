{
 "cells": [
  {
   "cell_type": "code",
   "execution_count": 1,
   "metadata": {},
   "outputs": [],
   "source": [
    "import praw\n",
    "import json\n",
    "import os\n",
    "import matplotlib.pyplot as plt\n",
    "import networkx as nx\n",
    "from anytree import Node, RenderTree\n",
    "\n",
    "import warnings \n",
    "warnings.filterwarnings('ignore')"
   ]
  },
  {
   "cell_type": "code",
   "execution_count": 2,
   "metadata": {},
   "outputs": [],
   "source": [
    "client_id = 'wQEuOcq3Oxz8EJaf1hzigg'\n",
    "client_secret = 'Walqn1Xz7h20dbvppmTcv16Fxl7uhg'\n",
    "user_agent = 'sury-umanch'"
   ]
  },
  {
   "cell_type": "code",
   "execution_count": 3,
   "metadata": {},
   "outputs": [
    {
     "name": "stderr",
     "output_type": "stream",
     "text": [
      "Version 7.7.1 of praw is outdated. Version 7.8.1 was released Friday October 25, 2024.\n"
     ]
    }
   ],
   "source": [
    "import praw\n",
    "\n",
    "# Initialize Reddit client\n",
    "reddit = praw.Reddit(\n",
    "    client_id=client_id,\n",
    "    client_secret=client_secret,\n",
    "    user_agent=user_agent\n",
    ")\n"
   ]
  },
  {
   "cell_type": "markdown",
   "metadata": {},
   "source": [
    "## Search Submissions by Keywords on Subreddits"
   ]
  },
  {
   "cell_type": "code",
   "execution_count": 5,
   "metadata": {},
   "outputs": [],
   "source": [
    "import csv\n",
    "\n",
    "subreddit_name = \"ukpolitics\"\n",
    "query = \"universal income OR minimum wage OR council tax OR income tax OR national insurance OR poverty\"\n",
    "limit = 100  # PRAW's search isn't truly unlimited\n",
    "\n",
    "# Store submission info\n",
    "submissions_data = []\n",
    "\n",
    "# Search subreddit with query\n",
    "for submission in reddit.subreddit(subreddit_name).search(query, limit=limit):\n",
    "    submissions_data.append({\n",
    "        \"submission_id\": submission.id,\n",
    "        \"title\": submission.title,\n",
    "        \"score\": submission.score,\n",
    "        \"url\": submission.url,\n",
    "        \"created_utc\": submission.created_utc,\n",
    "        \"author\": str(submission.author)\n",
    "    })\n",
    "\n",
    "# Save to CSV\n",
    "with open(\"data/submissions.csv\", \"w\", newline='', encoding=\"utf-8\") as f:\n",
    "    writer = csv.DictWriter(f, fieldnames=submissions_data[0].keys())\n",
    "    writer.writeheader()\n",
    "    writer.writerows(submissions_data)\n"
   ]
  },
  {
   "cell_type": "markdown",
   "metadata": {},
   "source": [
    "## Get All comments from submnission data"
   ]
  },
  {
   "cell_type": "code",
   "execution_count": 10,
   "metadata": {},
   "outputs": [],
   "source": [
    "import time\n",
    "\n",
    "comments_data = []\n",
    "\n",
    "start = time.time()\n",
    "\n",
    "for sub in submissions_data:\n",
    "    submission = reddit.submission(id=sub[\"submission_id\"])\n",
    "    submission.comments.replace_more(limit=None)  # Load all comments\n",
    "\n",
    "    for comment in submission.comments.list():\n",
    "        comments_data.append({\n",
    "            \"submission_id\": submission.id,\n",
    "            \"comment_id\": comment.id,\n",
    "            \"body\": comment.body,\n",
    "            \"author\": str(comment.author),\n",
    "            \"score\": comment.score,\n",
    "            \"created_utc\": comment.created_utc,\n",
    "            \"parent_id\": comment.parent_id\n",
    "        })\n",
    "\n",
    "    time.sleep(1)  # Be respectful of Reddit's rate limits\n",
    "\n",
    "    end = time.time()\n",
    "\n",
    "    if (end-start) > 60:\n",
    "        break\n",
    "\n",
    "# Save to CSV\n",
    "with open(\"data/comments.csv\", \"w\", newline='', encoding=\"utf-8\") as f:\n",
    "    writer = csv.DictWriter(f, fieldnames=comments_data[0].keys())\n",
    "    writer.writeheader()\n",
    "    writer.writerows(comments_data)\n"
   ]
  },
  {
   "cell_type": "code",
   "execution_count": null,
   "metadata": {},
   "outputs": [],
   "source": []
  }
 ],
 "metadata": {
  "kernelspec": {
   "display_name": "venv",
   "language": "python",
   "name": "python3"
  },
  "language_info": {
   "codemirror_mode": {
    "name": "ipython",
    "version": 3
   },
   "file_extension": ".py",
   "mimetype": "text/x-python",
   "name": "python",
   "nbconvert_exporter": "python",
   "pygments_lexer": "ipython3",
   "version": "3.12.4"
  }
 },
 "nbformat": 4,
 "nbformat_minor": 2
}
