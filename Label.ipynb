{
 "cells": [
  {
   "cell_type": "code",
   "execution_count": 1,
   "metadata": {},
   "outputs": [],
   "source": [
    "import pandas as pd\n",
    "import requests\n",
    "import ollama\n",
    "import time\n",
    "import os\n",
    "from tqdm import tqdm\n",
    "import re"
   ]
  },
  {
   "cell_type": "code",
   "execution_count": 45,
   "metadata": {},
   "outputs": [],
   "source": [
    "# Load your CSV file\n",
    "# df = pd.read_csv(os.path.join(\"data\", \"comments.csv\"))\n",
    "df = pd.read_csv('./data/manually_labelled.csv')\n",
    "\n",
    "# Clean: keep only rows with valid post and comment\n",
    "df = df.dropna(subset=[\"post_title\", \"comment_body\"]).copy()\n",
    "df.reset_index(drop=True, inplace=True)\n",
    "\n",
    "# Prepare output columns\n",
    "df[\"llm_stance\"] = \"\"\n",
    "df[\"llm_argument\"] = \"\"\n",
    "# df[\"llm_strategy\"] = \"\""
   ]
  },
  {
   "cell_type": "code",
   "execution_count": 46,
   "metadata": {},
   "outputs": [],
   "source": [
    "def filter_content(text):\n",
    "    text = re.sub(r'[^A-Za-z0-9\\s]', '', text.lower())\n",
    "\n",
    "    try:\n",
    "        stance_index = text.index('stance')\n",
    "    except ValueError:\n",
    "        stance_index = 0\n",
    "\n",
    "    try:\n",
    "        arg_index = text.index('argument')\n",
    "    except ValueError:\n",
    "        arg_index = 0\n",
    "    # stat_index = text.index('strategy')\n",
    "\n",
    "    if arg_index>stance_index:\n",
    "        stance = text[stance_index:arg_index]\n",
    "    else:\n",
    "        stance = text[stance_index:]\n",
    "    stance_approve = 'Disapprove' if 'disapprove' in stance else 'Approve'\n",
    "\n",
    "    argument = text[arg_index:].split(' ')\n",
    "    \n",
    "    try:\n",
    "        argument.remove('argument')\n",
    "    except:\n",
    "        pass\n",
    "\n",
    "    argument = ' '.join(argument)\n",
    "    \n",
    "    # stat = text[stat_index:].split(' ')\n",
    "    # stat.remove('strategy')\n",
    "    # stat = ' '.join(stat)\n",
    "\n",
    "    return stance_approve, argument#, stat"
   ]
  },
  {
   "cell_type": "code",
   "execution_count": 47,
   "metadata": {},
   "outputs": [],
   "source": [
    "# LLM prompt template\n",
    "def create_prompt(post, comment):\n",
    "    return f\"\"\"\n",
    "You are analysing political comments on news posts.\n",
    "\n",
    "Post: \"{post.strip()}\"\n",
    "Comment: \"{comment.strip()}\"\n",
    "\n",
    "Label this comment with:\n",
    "1. Stance: Whether the Comment approve or disapprove with the Post\n",
    "2. Argument: The reasoning behind this stance in 20 words\n",
    "Answer in this format:\n",
    "Stance: ...\n",
    "Argument: ...\n",
    "\"\"\"\n",
    "\n",
    "#3. Strategy: What kind of strategy does the commenter use? (e.g., emotional appeal, moral appeal, factual reasoning, economic concern) in 20 words\n",
    "\n",
    "# Function to call Ollama locally\n",
    "def query_ollama(prompt):\n",
    "    url = \"http://localhost:11434/api/generate\"\n",
    "    data = {\n",
    "        \"model\": \"gemma3:4b\",\n",
    "        \"prompt\": prompt,\n",
    "        \"stream\": False\n",
    "    }\n",
    "    try:\n",
    "        response = requests.post(url, json=data)\n",
    "        response.raise_for_status()\n",
    "        return response.json()[\"response\"]\n",
    "    except Exception as e:\n",
    "        print(\"Error:\", e)\n",
    "        return None"
   ]
  },
  {
   "cell_type": "code",
   "execution_count": 48,
   "metadata": {},
   "outputs": [
    {
     "name": "stderr",
     "output_type": "stream",
     "text": [
      "Processing: 100%|██████████| 100/100 [04:14<00:00,  2.55s/it]"
     ]
    },
    {
     "name": "stdout",
     "output_type": "stream",
     "text": [
      "Labelling complete. Output saved to 'auto_labelled_comments.csv'.\n"
     ]
    },
    {
     "name": "stderr",
     "output_type": "stream",
     "text": [
      "\n"
     ]
    }
   ],
   "source": [
    "# Run through the data\n",
    "# for idx, row in tqdm(df.iterrows(), total=len(df), desc='Processing: '):\n",
    "for idx, row in tqdm(df.iterrows(), total=len(df), dynamic_ncols=True, desc='Processing: '):\n",
    "    # print(f\"Processing row {idx+1}/{len(df)}...\")\n",
    "    prompt = create_prompt(row[\"post_title\"], row[\"comment_body\"])\n",
    "    result = query_ollama(prompt)\n",
    "    # print(result)\n",
    "    if result:\n",
    "        # Simple parsing (customise this if needed)\n",
    "        # stance, argument, stat = filter_content(result)\n",
    "        stance, argument = filter_content(result)\n",
    "        # for line in result.splitlines():\n",
    "        #     if line.lower().startswith(\"stance:\"):\n",
    "        #         df.at[idx, \"llm_stance\"] = line.split(\":\", 1)[1].strip()\n",
    "        #     elif line.lower().startswith(\"argument:\"):\n",
    "        #         df.at[idx, \"llm_argument\"] = line.split(\":\", 1)[1].strip()\n",
    "        #     elif line.lower().startswith(\"strategy:\"):\n",
    "        #         df.at[idx, \"llm_strategy\"] = line.split(\":\", 1)[1].strip()\n",
    "        df.at[idx, \"llm_stance\"] = stance\n",
    "        df.at[idx, \"llm_argument\"] = argument\n",
    "        # df.at[idx, \"llm_strategy\"] = stat\n",
    "\n",
    "    idx += 1\n",
    "\n",
    "    time.sleep(1)  # slight delay to avoid overload\n",
    "\n",
    "# Save results\n",
    "df.to_csv(\"auto_labelled_comments.csv\", index=False)\n",
    "print(\"Labelling complete. Output saved to 'auto_labelled_comments.csv'.\")"
   ]
  },
  {
   "cell_type": "code",
   "execution_count": 49,
   "metadata": {},
   "outputs": [
    {
     "data": {
      "text/plain": [
       "Index(['category', 'post_date', 'post_title', 'comment_date', 'comment_votes',\n",
       "       'comment_body', 'comment_stance', 'comment_argument', 'llm_stance',\n",
       "       'llm_argument'],\n",
       "      dtype='object')"
      ]
     },
     "execution_count": 49,
     "metadata": {},
     "output_type": "execute_result"
    }
   ],
   "source": [
    "df.columns"
   ]
  },
  {
   "cell_type": "code",
   "execution_count": 50,
   "metadata": {},
   "outputs": [],
   "source": [
    "df['comment_stance'] = df['comment_stance'].fillna('None')"
   ]
  },
  {
   "cell_type": "code",
   "execution_count": 52,
   "metadata": {},
   "outputs": [
    {
     "name": "stdout",
     "output_type": "stream",
     "text": [
      "1     disapprove\n",
      "2     disapprove\n",
      "3     disapprove\n",
      "4     disapprove\n",
      "6     disapprove\n",
      "         ...    \n",
      "93       approve\n",
      "96       approve\n",
      "97    disapprove\n",
      "98       approve\n",
      "99       approve\n",
      "Name: comment_stance, Length: 65, dtype: object\n",
      "1     disapprove\n",
      "2     disapprove\n",
      "3     disapprove\n",
      "4     disapprove\n",
      "6     disapprove\n",
      "         ...    \n",
      "93    disapprove\n",
      "96    disapprove\n",
      "97    disapprove\n",
      "98    disapprove\n",
      "99    disapprove\n",
      "Name: llm_stance, Length: 65, dtype: object\n"
     ]
    }
   ],
   "source": [
    "df = df[df['comment_stance'] != 'none']\n",
    "df['comment_stance'] = df['comment_stance'].map(str.lower)\n",
    "df['llm_stance'] = df['llm_stance'].map(str.lower)\n",
    "y_true, y_pred = df['comment_stance'], df['llm_stance']\n",
    "\n",
    "print(y_true)\n",
    "print(y_pred)"
   ]
  },
  {
   "cell_type": "code",
   "execution_count": 55,
   "metadata": {},
   "outputs": [
    {
     "name": "stdout",
     "output_type": "stream",
     "text": [
      "Accuracy Score:  0.7692307692307693\n"
     ]
    },
    {
     "data": {
      "text/plain": [
       "Text(45.722222222222214, 0.5, 'Predicted Labels')"
      ]
     },
     "execution_count": 55,
     "metadata": {},
     "output_type": "execute_result"
    },
    {
     "data": {
      "image/png": "[encoded data removed]",
      "text/plain": [
       "<Figure size 600x500 with 2 Axes>"
      ]
     },
     "metadata": {},
     "output_type": "display_data"
    }
   ],
   "source": [
    "from sklearn.metrics import accuracy_score, confusion_matrix\n",
    "import matplotlib.pyplot as plt\n",
    "import seaborn as sns\n",
    "\n",
    "acc_score = accuracy_score(y_true, y_pred)\n",
    "cm = confusion_matrix(y_true, y_pred)\n",
    "\n",
    "print('Accuracy Score: ', acc_score)\n",
    "\n",
    "plt.figure(figsize=(6,5))\n",
    "sns.heatmap(cm, annot=True)\n",
    "plt.title('Confusion Matrix')\n",
    "plt.xlabel('True Labels')\n",
    "plt.ylabel('Predicted Labels')"
   ]
  },
  {
   "cell_type": "code",
   "execution_count": null,
   "metadata": {},
   "outputs": [],
   "source": []
  },
  {
   "cell_type": "code",
   "execution_count": null,
   "metadata": {},
   "outputs": [],
   "source": []
  }
 ],
 "metadata": {
  "kernelspec": {
   "display_name": "venv",
   "language": "python",
   "name": "python3"
  },
  "language_info": {
   "codemirror_mode": {
    "name": "ipython",
    "version": 3
   },
   "file_extension": ".py",
   "mimetype": "text/x-python",
   "name": "python",
   "nbconvert_exporter": "python",
   "pygments_lexer": "ipython3",
   "version": "3.12.4"
  }
 },
 "nbformat": 4,
 "nbformat_minor": 2
}
