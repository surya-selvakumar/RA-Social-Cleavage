{
 "cells": [
  {
   "cell_type": "code",
   "execution_count": 1,
   "metadata": {},
   "outputs": [],
   "source": [
    "import numpy as np\n",
    "import pandas as pd\n",
    "import matplotlib.pyplot as plt\n",
    "import seaborn as sns\n",
    "# import ollama\n",
    "from sklearn.metrics import accuracy_score, classification_report, confusion_matrix\n",
    "import re\n",
    "import requests\n",
    "from tqdm import tqdm\n",
    "import time"
   ]
  },
  {
   "cell_type": "code",
   "execution_count": 2,
   "metadata": {},
   "outputs": [
    {
     "name": "stdout",
     "output_type": "stream",
     "text": [
      "Length of DF:  246\n",
      "category            146\n",
      "post_date           146\n",
      "post_title          146\n",
      "comment_date        146\n",
      "comment_votes       146\n",
      "comment_body         69\n",
      "comment_stance      181\n",
      "comment_argument    169\n",
      "dtype: int64\n"
     ]
    }
   ],
   "source": [
    "df = pd.read_csv('./data/manually_labelled.csv')\n",
    "# print(df.head(2))\n",
    "\n",
    "print('Length of DF: ', len(df))\n",
    "print(df.isna().sum())"
   ]
  },
  {
   "cell_type": "code",
   "execution_count": 3,
   "metadata": {},
   "outputs": [
    {
     "name": "stdout",
     "output_type": "stream",
     "text": [
      "category            100\n",
      "post_date           100\n",
      "post_title          100\n",
      "comment_date        100\n",
      "comment_votes       100\n",
      "comment_body        177\n",
      "comment_stance       65\n",
      "comment_argument     77\n",
      "dtype: int64\n"
     ]
    }
   ],
   "source": [
    "print(df.notna().sum())"
   ]
  },
  {
   "cell_type": "code",
   "execution_count": 4,
   "metadata": {},
   "outputs": [],
   "source": [
    "def clean_text(text):\n",
    "    if isinstance(text, str):\n",
    "        text = re.sub(r'\\[.*?\\]\\(.*?\\)', '', text)  \n",
    "        text = re.sub(r'[^a-zA-Z0-9\\s.,!?]', '', text)  \n",
    "        text = re.sub(r'\\s+', ' ', text)\n",
    "        return text.strip()\n",
    "    return ''\n",
    "\n",
    "def filter_bot(text):\n",
    "    return isinstance(text, str) and 'i am a bot' in text.lower() #iamabot' in re.sub(r'\\s+', '', text)"
   ]
  },
  {
   "cell_type": "code",
   "execution_count": 5,
   "metadata": {},
   "outputs": [
    {
     "name": "stdout",
     "output_type": "stream",
     "text": [
      "I am a bot, and this action was performed automatically. Please if you have any questions or concerns.\n",
      "I am a bot, and this action was performed automatically. Please if you have any questions or concerns.\n",
      "I am a bot. Any complaints suggestions to rContextualBot thanks\n",
      "I am a bot, and this action was performed automatically. Please if you have any questions or concerns.\n",
      "I am a bot, and this action was performed automatically. Please if you have any questions or concerns.\n",
      "5\n"
     ]
    }
   ],
   "source": [
    "count = 0\n",
    "for idx, text in df['comment_body'].items():\n",
    "    cleaned_text = clean_text(text)\n",
    "    if filter_bot(cleaned_text):\n",
    "        count += 1\n",
    "        print(cleaned_text)\n",
    "        df.drop(idx, inplace=True)\n",
    "\n",
    "print(count)"
   ]
  },
  {
   "cell_type": "code",
   "execution_count": 6,
   "metadata": {},
   "outputs": [
    {
     "data": {
      "text/plain": [
       "69"
      ]
     },
     "execution_count": 6,
     "metadata": {},
     "output_type": "execute_result"
    }
   ],
   "source": [
    "len(df[df['comment_body'].isna() & df['comment_stance'].isna()])"
   ]
  },
  {
   "cell_type": "code",
   "execution_count": 7,
   "metadata": {},
   "outputs": [
    {
     "data": {
      "text/plain": [
       "0      Snapshot of _Minister failing to act to reduce...\n",
       "2      An archived version can be found [here](https:...\n",
       "8      The amount of money wasted on completely bollo...\n",
       "10     I once worked on a project that installed a ha...\n",
       "15     So in other words smaller employers don’t need...\n",
       "                             ...                        \n",
       "234    We all know that ultimately the facts are that...\n",
       "238    They just leave it.  You've got senior doctors...\n",
       "240    People earning 50k will not bother applying fo...\n",
       "242                       Is it incompetence?  Laziness?\n",
       "245    Today's academia has so many failings - it act...\n",
       "Name: comment_body, Length: 107, dtype: object"
      ]
     },
     "execution_count": 7,
     "metadata": {},
     "output_type": "execute_result"
    }
   ],
   "source": [
    "df[df['comment_stance'].isna() & df['comment_body'].notna()]['comment_body']"
   ]
  },
  {
   "cell_type": "code",
   "execution_count": 8,
   "metadata": {},
   "outputs": [],
   "source": [
    "df = df[~df['comment_stance'].isna()]"
   ]
  },
  {
   "cell_type": "code",
   "execution_count": 9,
   "metadata": {},
   "outputs": [
    {
     "data": {
      "text/plain": [
       "6      disapprove\n",
       "11     disapprove\n",
       "12     disapprove\n",
       "13     disapprove\n",
       "17     disapprove\n",
       "          ...    \n",
       "223       approve\n",
       "232       approve\n",
       "235    disapprove\n",
       "236       approve\n",
       "243       approve\n",
       "Name: comment_stance, Length: 65, dtype: object"
      ]
     },
     "execution_count": 9,
     "metadata": {},
     "output_type": "execute_result"
    }
   ],
   "source": [
    "df['comment_stance']"
   ]
  },
  {
   "cell_type": "code",
   "execution_count": 10,
   "metadata": {},
   "outputs": [],
   "source": [
    "df['comment_body'] = df['comment_body'].apply(clean_text)"
   ]
  },
  {
   "cell_type": "code",
   "execution_count": 11,
   "metadata": {},
   "outputs": [],
   "source": [
    "df['new_stance'] = df['comment_stance'].replace({'approve': 'agree', 'disapprove': 'disagree'})"
   ]
  },
  {
   "cell_type": "code",
   "execution_count": 12,
   "metadata": {},
   "outputs": [
    {
     "name": "stdout",
     "output_type": "stream",
     "text": [
      "comment_stance\n",
      "disapprove    43\n",
      "approve       22\n",
      "Name: count, dtype: int64\n",
      "new_stance\n",
      "disagree    43\n",
      "agree       22\n",
      "Name: count, dtype: int64\n"
     ]
    }
   ],
   "source": [
    "print(df['comment_stance'].value_counts())\n",
    "print(df['new_stance'].value_counts())"
   ]
  },
  {
   "cell_type": "code",
   "execution_count": 13,
   "metadata": {},
   "outputs": [],
   "source": [
    "def strip_content(text):\n",
    "    text = re.sub(r'[^A-Za-z0-9\\s]', '', text.lower())\n",
    "\n",
    "    try:\n",
    "        stance_index = text.index('stance')\n",
    "    except ValueError:\n",
    "        stance_index = 0\n",
    "\n",
    "    try:\n",
    "        arg_index = text.index('rationale')\n",
    "    except ValueError:\n",
    "        arg_index = 0\n",
    "\n",
    "\n",
    "    if arg_index>stance_index:\n",
    "        stance_text = text[stance_index:arg_index]\n",
    "    else:\n",
    "        stance_text = text[stance_index:]\n",
    "\n",
    "    stance = 'disapprove' if 'disagree' in stance_text else 'approve'\n",
    "    # stance = 'disagree' if 'disagree' in stance_text else 'agree'\n",
    "    # stance = 'disagree' if 'no' in stance_text else 'agree'\n",
    "\n",
    "    argument = text[arg_index:].split(' ')\n",
    "    \n",
    "    try:\n",
    "        argument.remove('rationale')\n",
    "    except:\n",
    "        pass\n",
    "\n",
    "    argument = ' '.join(argument)\n",
    "\n",
    "    # stat_index = text.index('strategy')\n",
    "    \n",
    "    # stat = text[stat_index:].split(' ')\n",
    "    # stat.remove('strategy')\n",
    "    # stat = ' '.join(stat)\n",
    "\n",
    "    return stance, argument#, stat\n",
    "\n",
    "def strip_recheck(text):\n",
    "    text = re.sub(r'[^A-Za-z0-9\\s]', '', text.lower())\n",
    "    if 'yes' in text:\n",
    "        return True \n",
    "    else:\n",
    "        return False"
   ]
  },
  {
   "cell_type": "code",
   "execution_count": 18,
   "metadata": {},
   "outputs": [],
   "source": [
    "# LLM prompt template\n",
    "def response_prompt(title, comment):\n",
    "    return f\"\"\"You are an expert in political discourse analysis.\n",
    "\n",
    "    Post Title: \"{title}\"\n",
    "    Comment: \"{comment}\"\n",
    "\n",
    "    Task 1: Does the comment AGREE or DISAGREE with the opinion expressed in the title? Reply only with 'agree', 'disagree'.\n",
    "\n",
    "    Task 2: Briefly explain the rationale behind the comment in 1-2 sentences.\n",
    "\n",
    "    Respond in the following format:\n",
    "    Stance: <stance>\n",
    "    Rationale: <explanation>\n",
    "    \"\"\"\n",
    "\n",
    "def recheck_prompt(title, comment, response):\n",
    "    res_dict = {\n",
    "        'approve': 'agree',\n",
    "        'disapprove': 'disagree'\n",
    "    }\n",
    "    response = res_dict[response]\n",
    "    return f\"\"\"\n",
    "    Post Title: \"{title}\n",
    "    Comment: \"{comment}\"\n",
    "    AI Response: \"{response}\"\n",
    "\n",
    "    The AI response says the comment {response} with the post title, is this correct?\n",
    "\n",
    "    Respond with only yes or no\n",
    "    \"\"\"\n",
    "\n",
    "\n",
    "\n",
    "def query_ollama(prompt, mdl_idx):\n",
    "    models_dict = { 0: 'gemma3:12b', 1: 'gemma3:4b', 2: 'deepseek-r1:8b'}\n",
    "    url = \"http://localhost:11434/api/generate\"\n",
    "    data = {\n",
    "        \"model\": models_dict[mdl_idx],\n",
    "        \"prompt\": prompt,\n",
    "        \"stream\": False\n",
    "    }\n",
    "    try:\n",
    "        response = requests.post(url, json=data)\n",
    "        response.raise_for_status()\n",
    "        return response.json()[\"response\"]\n",
    "    except Exception as e:\n",
    "        print(\"Error:\", e)\n",
    "        return None"
   ]
  },
  {
   "cell_type": "code",
   "execution_count": 21,
   "metadata": {},
   "outputs": [],
   "source": [
    "def apply_on_df(df):\n",
    "    selected_mdl_idx = 0\n",
    "    for idx, row in tqdm(df.iterrows(), desc='Processing: ', total=len(df), dynamic_ncols=True):\n",
    "        prompt = response_prompt(row['post_title'], row['comment_body'])\n",
    "        llm_response = query_ollama(prompt, selected_mdl_idx) \n",
    "\n",
    "        if llm_response:\n",
    "            stance, argument = strip_content(llm_response)\n",
    "            check_prompt = recheck_prompt(row['post_title'], row['comment_body'], stance)\n",
    "            llm_check_response = query_ollama(check_prompt, selected_mdl_idx)\n",
    "            llm_check_flag = strip_recheck(llm_check_response)\n",
    "\n",
    "            # print('LLM Response: \\n', llm_response)\n",
    "            # print('LLM Check Response: \\n', llm_check_response)\n",
    "            # print('Check Flag: ', llm_check_flag)\n",
    "\n",
    "            if not llm_check_flag:\n",
    "                stance2 = 'disapprove' if stance=='approve' else 'approve'\n",
    "\n",
    "            df.at[idx, 'llm_stance'] = stance.lower() \n",
    "            df.at[idx, 'llm_stance2'] = stance2.lower()\n",
    "            df.at[idx, 'llm_argument'] = argument.lower() \n",
    "   \n",
    "        time.sleep(1)\n",
    "\n",
    "    return df"
   ]
  },
  {
   "cell_type": "code",
   "execution_count": 22,
   "metadata": {},
   "outputs": [
    {
     "name": "stderr",
     "output_type": "stream",
     "text": [
      "Processing: 100%|██████████| 65/65 [10:30<00:00,  9.69s/it]\n"
     ]
    }
   ],
   "source": [
    "result_df = apply_on_df(df)\n",
    "result_df.to_csv('data/llm_labelled_2.csv')"
   ]
  },
  {
   "cell_type": "code",
   "execution_count": 23,
   "metadata": {},
   "outputs": [
    {
     "name": "stdout",
     "output_type": "stream",
     "text": [
      "Accuracy Score (Gemma3:12b)-recheck-v1: 0.8153846153846154\n",
      "classification Report:\n",
      "              precision    recall  f1-score   support\n",
      "\n",
      "     approve       0.66      0.95      0.78        22\n",
      "  disapprove       0.97      0.74      0.84        43\n",
      "\n",
      "    accuracy                           0.82        65\n",
      "   macro avg       0.81      0.85      0.81        65\n",
      "weighted avg       0.86      0.82      0.82        65\n",
      "\n"
     ]
    }
   ],
   "source": [
    "ytrue, ypred = result_df['comment_stance'], result_df['llm_stance'].map(str.lower)\n",
    "acc_score = accuracy_score(ytrue, ypred)\n",
    "clf_report = classification_report(ytrue, ypred)\n",
    "cm = confusion_matrix(ytrue, ypred)\n",
    "\n",
    "print('Accuracy Score (Gemma3:12b)-recheck-v1:', acc_score)\n",
    "print('classification Report:')\n",
    "print(clf_report)"
   ]
  },
  {
   "cell_type": "code",
   "execution_count": 25,
   "metadata": {},
   "outputs": [
    {
     "name": "stdout",
     "output_type": "stream",
     "text": [
      "Accuracy Score (Gemma3:12b)-recheck-v1: 0.3230769230769231\n",
      "classification Report:\n",
      "              precision    recall  f1-score   support\n",
      "\n",
      "     approve       0.28      0.64      0.39        22\n",
      "  disapprove       0.47      0.16      0.24        43\n",
      "\n",
      "    accuracy                           0.32        65\n",
      "   macro avg       0.37      0.40      0.32        65\n",
      "weighted avg       0.40      0.32      0.29        65\n",
      "\n"
     ]
    }
   ],
   "source": [
    "ytrue, ypred = result_df['comment_stance'], result_df['llm_stance2'].map(str.lower)\n",
    "acc_score = accuracy_score(ytrue, ypred)\n",
    "clf_report = classification_report(ytrue, ypred)\n",
    "cm = confusion_matrix(ytrue, ypred)\n",
    "\n",
    "print('Accuracy Score (Gemma3:12b)-recheck-v1:', acc_score)\n",
    "print('classification Report:')\n",
    "print(clf_report)"
   ]
  },
  {
   "cell_type": "code",
   "execution_count": 26,
   "metadata": {},
   "outputs": [
    {
     "data": {
      "text/plain": [
       "<Axes: >"
      ]
     },
     "execution_count": 26,
     "metadata": {},
     "output_type": "execute_result"
    },
    {
     "data": {
      "image/png": "[encoded data removed]",
      "text/plain": [
       "<Figure size 640x480 with 2 Axes>"
      ]
     },
     "metadata": {},
     "output_type": "display_data"
    }
   ],
   "source": [
    "sns.heatmap(cm, annot=True)"
   ]
  },
  {
   "cell_type": "code",
   "execution_count": 16,
   "metadata": {},
   "outputs": [
    {
     "name": "stdout",
     "output_type": "stream",
     "text": [
      "Accuracy Score (DeepSeek-R1:8b): 0.7076923076923077\n",
      "classification Report:\n",
      "              precision    recall  f1-score   support\n",
      "\n",
      "     approve       0.56      0.68      0.61        22\n",
      "  disapprove       0.82      0.72      0.77        43\n",
      "\n",
      "    accuracy                           0.71        65\n",
      "   macro avg       0.69      0.70      0.69        65\n",
      "weighted avg       0.73      0.71      0.71        65\n",
      "\n"
     ]
    }
   ],
   "source": [
    "ytrue, ypred = result_df['comment_stance'], result_df['llm_stance'].map(str.lower)\n",
    "acc_score = accuracy_score(ytrue, ypred)\n",
    "clf_report = classification_report(ytrue, ypred)\n",
    "cm = confusion_matrix(ytrue, ypred)\n",
    "\n",
    "print('Accuracy Score (DeepSeek-R1:8b):', acc_score)\n",
    "print('classification Report:')\n",
    "print(clf_report)"
   ]
  },
  {
   "cell_type": "code",
   "execution_count": 128,
   "metadata": {},
   "outputs": [
    {
     "name": "stdout",
     "output_type": "stream",
     "text": [
      "Accuracy Score (Gemma3:12b): 0.8153846153846154\n",
      "classification Report:\n",
      "              precision    recall  f1-score   support\n",
      "\n",
      "     approve       0.67      0.91      0.77        22\n",
      "  disapprove       0.94      0.77      0.85        43\n",
      "\n",
      "    accuracy                           0.82        65\n",
      "   macro avg       0.80      0.84      0.81        65\n",
      "weighted avg       0.85      0.82      0.82        65\n",
      "\n"
     ]
    }
   ],
   "source": [
    "result_df = pd.read_csv('./data/llm_labelled.csv')\n",
    "ytrue, ypred = result_df['comment_stance'], result_df['llm_stance'].map(str.lower)\n",
    "acc_score = accuracy_score(ytrue, ypred)\n",
    "clf_report = classification_report(ytrue, ypred)\n",
    "cm = confusion_matrix(ytrue, ypred)\n",
    "\n",
    "print('Accuracy Score (Gemma3:12b):', acc_score)\n",
    "print('classification Report:')\n",
    "print(clf_report)"
   ]
  },
  {
   "cell_type": "code",
   "execution_count": 16,
   "metadata": {},
   "outputs": [
    {
     "name": "stdout",
     "output_type": "stream",
     "text": [
      "Accuracy Score (Gemma3:12b) - prompt - v1: 0.7692307692307693\n",
      "classification Report:\n",
      "              precision    recall  f1-score   support\n",
      "\n",
      "     approve       0.61      0.91      0.73        22\n",
      "  disapprove       0.94      0.70      0.80        43\n",
      "\n",
      "    accuracy                           0.77        65\n",
      "   macro avg       0.77      0.80      0.76        65\n",
      "weighted avg       0.83      0.77      0.78        65\n",
      "\n"
     ]
    }
   ],
   "source": [
    "ytrue, ypred = result_df['comment_stance'], result_df['llm_stance'].map(str.lower)\n",
    "acc_score = accuracy_score(ytrue, ypred)\n",
    "clf_report = classification_report(ytrue, ypred)\n",
    "cm = confusion_matrix(ytrue, ypred)\n",
    "\n",
    "print('Accuracy Score (Gemma3:12b) - prompt - v1:', acc_score)\n",
    "print('classification Report:')\n",
    "print(clf_report)"
   ]
  },
  {
   "cell_type": "code",
   "execution_count": 67,
   "metadata": {},
   "outputs": [
    {
     "data": {
      "text/plain": [
       "llm_stance\n",
       "disagree    33\n",
       "agree       32\n",
       "Name: count, dtype: int64"
      ]
     },
     "execution_count": 67,
     "metadata": {},
     "output_type": "execute_result"
    }
   ],
   "source": [
    "# result_df['llm_stance'] = result_df['llm_stance'].map({'disapprove':'disagree'})\n",
    "# result_df['llm_stance'].value_counts()\n",
    "result_df = pd.read_csv('./data/llm_labelled.csv')\n",
    "result_df['llm_stance'] = result_df['llm_stance'].replace({'disapprove': 'disagree', 'approve': 'approve'})\n",
    "result_df['llm_stance'].value_counts()"
   ]
  },
  {
   "cell_type": "code",
   "execution_count": 68,
   "metadata": {},
   "outputs": [
    {
     "name": "stdout",
     "output_type": "stream",
     "text": [
      "Accuracy Score (Gemma3:12b) - prompt - v0 - new_stance: 0.8153846153846154\n",
      "classification Report:\n",
      "              precision    recall  f1-score   support\n",
      "\n",
      "       agree       0.66      0.95      0.78        22\n",
      "    disagree       0.97      0.74      0.84        43\n",
      "\n",
      "    accuracy                           0.82        65\n",
      "   macro avg       0.81      0.85      0.81        65\n",
      "weighted avg       0.86      0.82      0.82        65\n",
      "\n"
     ]
    }
   ],
   "source": [
    "ytrue, ypred = result_df['new_stance'], result_df['llm_stance'].map(str.lower)\n",
    "acc_score = accuracy_score(ytrue, ypred)\n",
    "clf_report = classification_report(ytrue, ypred)\n",
    "cm = confusion_matrix(ytrue, ypred)\n",
    "\n",
    "print('Accuracy Score (Gemma3:12b) - prompt - v0 - new_stance:', acc_score)\n",
    "print('classification Report:')\n",
    "print(clf_report)"
   ]
  },
  {
   "cell_type": "code",
   "execution_count": 90,
   "metadata": {},
   "outputs": [
    {
     "data": {
      "text/plain": [
       "llm_stance\n",
       "agree       35\n",
       "disagree    30\n",
       "Name: count, dtype: int64"
      ]
     },
     "execution_count": 90,
     "metadata": {},
     "output_type": "execute_result"
    }
   ],
   "source": [
    "result_df['llm_stance'].value_counts()"
   ]
  },
  {
   "cell_type": "code",
   "execution_count": 92,
   "metadata": {},
   "outputs": [
    {
     "name": "stdout",
     "output_type": "stream",
     "text": [
      "Accuracy Score (Gemma3:12b) - prompt - v2 - new_stance: 0.7384615384615385\n",
      "classification Report:\n",
      "              precision    recall  f1-score   support\n",
      "\n",
      "       agree       0.57      0.91      0.70        22\n",
      "    disagree       0.93      0.65      0.77        43\n",
      "\n",
      "    accuracy                           0.74        65\n",
      "   macro avg       0.75      0.78      0.73        65\n",
      "weighted avg       0.81      0.74      0.74        65\n",
      "\n"
     ]
    }
   ],
   "source": [
    "ytrue, ypred = result_df['new_stance'], result_df['llm_stance'].map(str.lower)\n",
    "acc_score = accuracy_score(ytrue, ypred)\n",
    "clf_report = classification_report(ytrue, ypred)\n",
    "cm = confusion_matrix(ytrue, ypred)\n",
    "\n",
    "print('Accuracy Score (Gemma3:12b) - prompt - v2 - new_stance:', acc_score)\n",
    "print('classification Report:')\n",
    "print(clf_report)"
   ]
  },
  {
   "cell_type": "code",
   "execution_count": 32,
   "metadata": {},
   "outputs": [],
   "source": [
    "import re\n",
    "import requests\n",
    "import time\n",
    "from tqdm import tqdm\n",
    "import pandas as pd\n",
    "from sklearn.metrics import confusion_matrix, classification_report, accuracy_score\n",
    "\n",
    "\n",
    "def clean_text(text):\n",
    "    if isinstance(text, str):\n",
    "        text = re.sub(r'\\[.*?\\]\\(.*?\\)', '', text)  \n",
    "        text = re.sub(r'[^a-zA-Z0-9\\s.,!?]', '', text)  \n",
    "        text = re.sub(r'\\s+', ' ', text)\n",
    "        return text.strip()\n",
    "    return ''\n",
    "\n",
    "def filter_bot(text):\n",
    "    return isinstance(text, str) and 'i am a bot' in text.lower() #iamabot' in re.sub(r'\\s+', '', text)\n",
    "\n",
    "def strip_content(text):\n",
    "    text = re.sub(r'[^A-Za-z0-9\\s]', '', text.lower())\n",
    "\n",
    "    try:\n",
    "        stance_index = text.index('stance')\n",
    "    except ValueError:\n",
    "        stance_index = 0\n",
    "\n",
    "    try:\n",
    "        arg_index = text.index('rationale')\n",
    "    except ValueError:\n",
    "        arg_index = len(text)\n",
    "\n",
    "    if arg_index > stance_index:\n",
    "        stance_text = text[stance_index:arg_index]\n",
    "    else:\n",
    "        stance_text = text[stance_index:]\n",
    "\n",
    "    stance = 'disapprove' if 'disagree' in stance_text else 'approve'\n",
    "\n",
    "    argument = text[arg_index:].split(' ')\n",
    "    try:\n",
    "        argument.remove('rationale')\n",
    "    except:\n",
    "        pass\n",
    "    argument = ' '.join(argument)\n",
    "\n",
    "    return stance, argument\n",
    "\n",
    "# Prompt templates\n",
    "def response_prompt(title, comment):\n",
    "    return f\"\"\"You are an expert in political discourse analysis.\n",
    "\n",
    "    Post Title: \"{title}\"\n",
    "    Comment: \"{comment}\"\n",
    "\n",
    "    Task 1: Does the comment AGREE or DISAGREE with the opinion expressed in the title? Reply only with 'agree', 'disagree'.\n",
    "\n",
    "    Task 2: Briefly explain the rationale behind the comment in 1-2 sentences.\n",
    "\n",
    "    Respond in the following format:\n",
    "    Stance: <stance>\n",
    "    Rationale: <explanation>\n",
    "    \"\"\"\n",
    "\n",
    "def query_ollama(prompt, mdl_idx):\n",
    "    models_dict = {0: 'gemma3:12b', 1: 'gemma3:4b', 2: 'deepseek-r1:8b'}\n",
    "    url = \"http://localhost:11434/api/generate\"\n",
    "    data = {\n",
    "        \"model\": models_dict[mdl_idx],\n",
    "        \"prompt\": prompt,\n",
    "        \"stream\": False\n",
    "    }\n",
    "    try:\n",
    "        response = requests.post(url, json=data)\n",
    "        response.raise_for_status()\n",
    "        return response.json()[\"response\"]\n",
    "    except Exception as e:\n",
    "        print(\"Error:\", e)\n",
    "        return \"\"\n",
    "\n",
    "def apply_on_df(df):\n",
    "    selected_mdl_idx = 0\n",
    "    for idx, row in tqdm(df.iterrows(), desc='Processing', total=len(df), dynamic_ncols=True):\n",
    "        # First pass\n",
    "        prompt1 = response_prompt(row['post_title'], row['comment_body'])\n",
    "        response1 = query_ollama(prompt1, selected_mdl_idx)\n",
    "        stance1, arg1 = strip_content(response1)\n",
    "\n",
    "        # Second independent recheck (no yes/no)\n",
    "        prompt2 = response_prompt(row['post_title'], row['comment_body'])\n",
    "        response2 = query_ollama(prompt2, selected_mdl_idx)\n",
    "        stance2, arg2 = strip_content(response2)\n",
    "\n",
    "        df.at[idx, 'llm_stance'] = stance1\n",
    "        df.at[idx, 'llm_argument'] = arg1\n",
    "        df.at[idx, 'llm_stance2'] = stance2\n",
    "        df.at[idx, 'llm_argument2'] = arg2\n",
    "\n",
    "        df.at[idx, 'llm_stance3'] = stance1 if stance1==stance2 else stance2\n",
    "\n",
    "        time.sleep(1)\n",
    "\n",
    "    return df\n",
    "\n",
    "\n",
    "def load_process_df():\n",
    "    df = pd.read_csv('./data/manually_labelled.csv')\n",
    "\n",
    "    for idx, text in df['comment_body'].items():\n",
    "        cleaned_text = clean_text(text)\n",
    "        if filter_bot(cleaned_text):\n",
    "            df.drop(idx, inplace=True)\n",
    "\n",
    "    df = df[~df['comment_stance'].isna()]\n",
    "    df['comment_body'] = df['comment_body'].apply(clean_text)\n",
    "\n",
    "    return df \n",
    "\n",
    "def save_log(acc_scores):\n",
    "    file_path = './data/log.txt'\n",
    "    with open(file_path, 'w') as f:\n",
    "        f.write(\n",
    "            f\"\\nAccuracy : {\":.2f\".format(acc_scores[0])}\\nAccuracy : {\":.2f\".format(acc_scores[1])}\\nAccuracy : {\":.2f\".format(acc_scores[2])}\"\n",
    "        )\n",
    "\n",
    "    \n",
    "\n",
    "\n",
    "df = load_process_df()\n",
    "result_df = apply_on_df(df)"
   ]
  },
  {
   "cell_type": "code",
   "execution_count": 33,
   "metadata": {},
   "outputs": [
    {
     "name": "stdout",
     "output_type": "stream",
     "text": [
      "[0.8153846153846154, 0.8153846153846154, 0.8153846153846154]\n"
     ]
    }
   ],
   "source": [
    "# \n",
    "y_true, ypred1, ypred2, ypred3 = result_df['comment_stance'], result_df['llm_stance'], result_df['llm_stance2'], result_df['llm_stance3']\n",
    "acc_score1 = accuracy_score(y_true, ypred1)\n",
    "acc_score2 = accuracy_score(y_true, ypred2)\n",
    "acc_score3 = accuracy_score(y_true, ypred3)\n",
    "save_log([acc_score1, acc_score2, acc_score3])\n",
    "\n",
    "print([acc_score1, acc_score2, acc_score3])"
   ]
  },
  {
   "cell_type": "code",
   "execution_count": 31,
   "metadata": {},
   "outputs": [],
   "source": [
    "result_df.to_csv('./data/llm_labelled_2405.csv')"
   ]
  },
  {
   "cell_type": "code",
   "execution_count": 34,
   "metadata": {},
   "outputs": [],
   "source": [
    "def load_process_df():\n",
    "    df = pd.read_csv('./data/manually_labelled.csv')\n",
    "\n",
    "    for idx, text in df['comment_body'].items():\n",
    "        cleaned_text = clean_text(text)\n",
    "        if filter_bot(cleaned_text):\n",
    "            df.drop(idx, inplace=True)\n",
    "\n",
    "    df = df[~df['comment_stance'].isna()]\n",
    "    df['comment_body'] = df['comment_body'].apply(clean_text)\n",
    "\n",
    "    return df \n",
    "\n",
    "cleaned_df = load_process_df()\n",
    "cleaned_df.to_csv('./data/cleaned_data.csv')"
   ]
  },
  {
   "cell_type": "code",
   "execution_count": null,
   "metadata": {},
   "outputs": [],
   "source": []
  }
 ],
 "metadata": {
  "kernelspec": {
   "display_name": "venv",
   "language": "python",
   "name": "python3"
  },
  "language_info": {
   "codemirror_mode": {
    "name": "ipython",
    "version": 3
   },
   "file_extension": ".py",
   "mimetype": "text/x-python",
   "name": "python",
   "nbconvert_exporter": "python",
   "pygments_lexer": "ipython3",
   "version": "3.12.4"
  }
 },
 "nbformat": 4,
 "nbformat_minor": 2
}
