{
 "cells": [
  {
   "cell_type": "code",
   "execution_count": 3,
   "metadata": {},
   "outputs": [],
   "source": [
    "import numpy as np\n",
    "import pandas as pd\n",
    "import matplotlib.pyplot as plt\n",
    "import seaborn as sns\n",
    "# import ollama\n",
    "from sklearn.metrics import accuracy_score, classification_report, confusion_matrix\n",
    "import re\n",
    "import requests\n",
    "from tqdm import tqdm\n",
    "import time"
   ]
  },
  {
   "cell_type": "code",
   "execution_count": 4,
   "metadata": {},
   "outputs": [
    {
     "name": "stdout",
     "output_type": "stream",
     "text": [
      "Length of DF:  246\n",
      "category            146\n",
      "post_date           146\n",
      "post_title          146\n",
      "comment_date        146\n",
      "comment_votes       146\n",
      "comment_body         69\n",
      "comment_stance      181\n",
      "comment_argument    169\n",
      "dtype: int64\n"
     ]
    }
   ],
   "source": [
    "df = pd.read_csv('./data/manually_labelled.csv')\n",
    "# print(df.head(2))\n",
    "\n",
    "print('Length of DF: ', len(df))\n",
    "print(df.isna().sum())"
   ]
  },
  {
   "cell_type": "code",
   "execution_count": 5,
   "metadata": {},
   "outputs": [
    {
     "name": "stdout",
     "output_type": "stream",
     "text": [
      "category            100\n",
      "post_date           100\n",
      "post_title          100\n",
      "comment_date        100\n",
      "comment_votes       100\n",
      "comment_body        177\n",
      "comment_stance       65\n",
      "comment_argument     77\n",
      "dtype: int64\n"
     ]
    }
   ],
   "source": [
    "print(df.notna().sum())"
   ]
  },
  {
   "cell_type": "code",
   "execution_count": 6,
   "metadata": {},
   "outputs": [],
   "source": [
    "def clean_text(text):\n",
    "    if isinstance(text, str):\n",
    "        text = re.sub(r'\\[.*?\\]\\(.*?\\)', '', text)  \n",
    "        text = re.sub(r'[^a-zA-Z0-9\\s.,!?]', '', text)  \n",
    "        text = re.sub(r'\\s+', ' ', text)\n",
    "        return text.strip()\n",
    "    return ''\n",
    "\n",
    "def filter_bot(text):\n",
    "    return isinstance(text, str) and 'i am a bot' in text.lower() #iamabot' in re.sub(r'\\s+', '', text)"
   ]
  },
  {
   "cell_type": "code",
   "execution_count": 7,
   "metadata": {},
   "outputs": [
    {
     "name": "stdout",
     "output_type": "stream",
     "text": [
      "I am a bot, and this action was performed automatically. Please if you have any questions or concerns.\n",
      "I am a bot, and this action was performed automatically. Please if you have any questions or concerns.\n",
      "I am a bot. Any complaints suggestions to rContextualBot thanks\n",
      "I am a bot, and this action was performed automatically. Please if you have any questions or concerns.\n",
      "I am a bot, and this action was performed automatically. Please if you have any questions or concerns.\n",
      "5\n"
     ]
    }
   ],
   "source": [
    "count = 0\n",
    "for idx, text in df['comment_body'].items():\n",
    "    cleaned_text = clean_text(text)\n",
    "    if filter_bot(cleaned_text):\n",
    "        count += 1\n",
    "        print(cleaned_text)\n",
    "        df.drop(idx, inplace=True)\n",
    "\n",
    "print(count)"
   ]
  },
  {
   "cell_type": "code",
   "execution_count": 8,
   "metadata": {},
   "outputs": [
    {
     "data": {
      "text/plain": [
       "69"
      ]
     },
     "execution_count": 8,
     "metadata": {},
     "output_type": "execute_result"
    }
   ],
   "source": [
    "len(df[df['comment_body'].isna() & df['comment_stance'].isna()])"
   ]
  },
  {
   "cell_type": "code",
   "execution_count": 9,
   "metadata": {},
   "outputs": [
    {
     "data": {
      "text/plain": [
       "0      Snapshot of _Minister failing to act to reduce...\n",
       "2      An archived version can be found [here](https:...\n",
       "8      The amount of money wasted on completely bollo...\n",
       "10     I once worked on a project that installed a ha...\n",
       "15     So in other words smaller employers don’t need...\n",
       "                             ...                        \n",
       "234    We all know that ultimately the facts are that...\n",
       "238    They just leave it.  You've got senior doctors...\n",
       "240    People earning 50k will not bother applying fo...\n",
       "242                       Is it incompetence?  Laziness?\n",
       "245    Today's academia has so many failings - it act...\n",
       "Name: comment_body, Length: 107, dtype: object"
      ]
     },
     "execution_count": 9,
     "metadata": {},
     "output_type": "execute_result"
    }
   ],
   "source": [
    "df[df['comment_stance'].isna() & df['comment_body'].notna()]['comment_body']"
   ]
  },
  {
   "cell_type": "code",
   "execution_count": 10,
   "metadata": {},
   "outputs": [],
   "source": [
    "df = df[~df['comment_stance'].isna()]"
   ]
  },
  {
   "cell_type": "code",
   "execution_count": 11,
   "metadata": {},
   "outputs": [
    {
     "data": {
      "text/plain": [
       "6                    I used to work for a large council.\n",
       "11     Such a stupid idea when the job market is alre...\n",
       "12     I know this is a joke …right ? Come on someone...\n",
       "13     I guess she missed the bit about employment al...\n",
       "17      Wait....does he know he's not important anymore?\n",
       "                             ...                        \n",
       "223    The fact that over half of working Brits are n...\n",
       "232    Not necessarily defending Labour herr but, Hon...\n",
       "235    what the hell. When count average salary. It c...\n",
       "236    The government have also made no attempt to fi...\n",
       "243    The other side to this was a downplaying of tr...\n",
       "Name: comment_body, Length: 65, dtype: object"
      ]
     },
     "execution_count": 11,
     "metadata": {},
     "output_type": "execute_result"
    }
   ],
   "source": [
    "df['comment_body']"
   ]
  },
  {
   "cell_type": "code",
   "execution_count": 12,
   "metadata": {},
   "outputs": [],
   "source": [
    "df['comment_body'] = df['comment_body'].apply(clean_text)"
   ]
  },
  {
   "cell_type": "code",
   "execution_count": 13,
   "metadata": {},
   "outputs": [],
   "source": [
    "def strip_content(text):\n",
    "    text = re.sub(r'[^A-Za-z0-9\\s]', '', text.lower())\n",
    "\n",
    "    try:\n",
    "        stance_index = text.index('stance')\n",
    "    except ValueError:\n",
    "        stance_index = 0\n",
    "\n",
    "    try:\n",
    "        arg_index = text.index('rationale')\n",
    "    except ValueError:\n",
    "        arg_index = 0\n",
    "\n",
    "\n",
    "    if arg_index>stance_index:\n",
    "        stance_text = text[stance_index:arg_index]\n",
    "    else:\n",
    "        stance_text = text[stance_index:]\n",
    "\n",
    "    stance = 'Disapprove' if 'disapprove' in stance_text else 'Approve'\n",
    "\n",
    "    argument = text[arg_index:].split(' ')\n",
    "    \n",
    "    try:\n",
    "        argument.remove('rationale')\n",
    "    except:\n",
    "        pass\n",
    "\n",
    "    argument = ' '.join(argument)\n",
    "\n",
    "    # stat_index = text.index('strategy')\n",
    "    \n",
    "    # stat = text[stat_index:].split(' ')\n",
    "    # stat.remove('strategy')\n",
    "    # stat = ' '.join(stat)\n",
    "\n",
    "    return stance, argument#, stat"
   ]
  },
  {
   "cell_type": "code",
   "execution_count": 17,
   "metadata": {},
   "outputs": [],
   "source": [
    "# LLM prompt template\n",
    "def create_prompt(title, comment):\n",
    "    return f\"\"\"You are an expert in political discourse analysis.\n",
    "\n",
    "    Post Title: \"{title}\"\n",
    "    Comment: \"{comment}\"\n",
    "\n",
    "    Task 1: Does the comment AGREE or DISAGREE with the opinion expressed in the title? Reply only with 'approve', 'disapprove'.\n",
    "\n",
    "    Task 2: Briefly explain the rationale behind the comment in 1-2 sentences.\n",
    "\n",
    "    Respond in the following format:\n",
    "    Stance: <stance>\n",
    "    Rationale: <explanation>\n",
    "    \"\"\"\n",
    "\n",
    "\n",
    "def query_ollama(prompt, mdl_idx):\n",
    "    models_dict = {0: 'gemma3:27b-it-qat', 1: 'gemma3:12b', 2: 'gemma3:4b', 3: 'deepseek-r1:8b'}\n",
    "    url = \"http://localhost:11434/api/generate\"\n",
    "    data = {\n",
    "        \"model\": models_dict[mdl_idx],\n",
    "        \"prompt\": prompt,\n",
    "        \"stream\": False\n",
    "    }\n",
    "    try:\n",
    "        response = requests.post(url, json=data)\n",
    "        response.raise_for_status()\n",
    "        return response.json()[\"response\"]\n",
    "    except Exception as e:\n",
    "        print(\"Error:\", e)\n",
    "        return None"
   ]
  },
  {
   "cell_type": "code",
   "execution_count": 18,
   "metadata": {},
   "outputs": [],
   "source": [
    "def apply_on_df(df):\n",
    "    selected_mdl_idx = 0\n",
    "    for idx, row in tqdm(df.iterrows(), desc='Processing: ', total=len(df), dynamic_ncols=True):\n",
    "        prompt = create_prompt(row['post_title'], row['comment_body'])\n",
    "        llm_response = query_ollama(prompt, selected_mdl_idx)\n",
    "\n",
    "        if llm_response:\n",
    "            stance, argument = strip_content(llm_response)\n",
    "            df.at[idx, 'llm_stance'] = stance.lower() \n",
    "            df.at[idx, 'llm_argument'] = argument.lower() \n",
    "   \n",
    "        time.sleep(1)\n",
    "\n",
    "    return df"
   ]
  },
  {
   "cell_type": "code",
   "execution_count": null,
   "metadata": {},
   "outputs": [
    {
     "name": "stderr",
     "output_type": "stream",
     "text": [
      "Processing:   0%|          | 0/65 [00:00<?, ?it/s]"
     ]
    }
   ],
   "source": [
    "result_df = apply_on_df(df)\n",
    "result_df.to_csv('data/llm_labelled_27bqt.csv')"
   ]
  },
  {
   "cell_type": "code",
   "execution_count": 16,
   "metadata": {},
   "outputs": [
    {
     "name": "stdout",
     "output_type": "stream",
     "text": [
      "Accuracy Score (DeepSeek-R1:8b): 0.7076923076923077\n",
      "classification Report:\n",
      "              precision    recall  f1-score   support\n",
      "\n",
      "     approve       0.56      0.68      0.61        22\n",
      "  disapprove       0.82      0.72      0.77        43\n",
      "\n",
      "    accuracy                           0.71        65\n",
      "   macro avg       0.69      0.70      0.69        65\n",
      "weighted avg       0.73      0.71      0.71        65\n",
      "\n"
     ]
    }
   ],
   "source": [
    "ytrue, ypred = result_df['comment_stance'], result_df['llm_stance'].map(str.lower)\n",
    "acc_score = accuracy_score(ytrue, ypred)\n",
    "clf_report = classification_report(ytrue, ypred)\n",
    "cm = confusion_matrix(ytrue, ypred)\n",
    "\n",
    "print('Accuracy Score (DeepSeek-R1:8b):', acc_score)\n",
    "print('classification Report:')\n",
    "print(clf_report)"
   ]
  },
  {
   "cell_type": "code",
   "execution_count": 14,
   "metadata": {},
   "outputs": [
    {
     "name": "stdout",
     "output_type": "stream",
     "text": [
      "Accuracy Score (Gemma3:12b): 0.8307692307692308\n",
      "classification Report:\n",
      "              precision    recall  f1-score   support\n",
      "\n",
      "     approve       0.74      0.77      0.76        22\n",
      "  disapprove       0.88      0.86      0.87        43\n",
      "\n",
      "    accuracy                           0.83        65\n",
      "   macro avg       0.81      0.82      0.81        65\n",
      "weighted avg       0.83      0.83      0.83        65\n",
      "\n"
     ]
    }
   ],
   "source": [
    "result_df = pd.read_csv('./data/llm_labelled.csv')\n",
    "ytrue, ypred = result_df['comment_stance'], result_df['llm_stance'].map(str.lower)\n",
    "acc_score = accuracy_score(ytrue, ypred)\n",
    "clf_report = classification_report(ytrue, ypred)\n",
    "cm = confusion_matrix(ytrue, ypred)\n",
    "\n",
    "print('Accuracy Score (Gemma3:12b):', acc_score)\n",
    "print('classification Report:')\n",
    "print(clf_report)"
   ]
  },
  {
   "cell_type": "code",
   "execution_count": null,
   "metadata": {},
   "outputs": [],
   "source": [
    "ytrue, ypred = result_df['comment_stance'], result_df['llm_stance'].map(str.lower)\n",
    "acc_score = accuracy_score(ytrue, ypred)\n",
    "clf_report = classification_report(ytrue, ypred)\n",
    "cm = confusion_matrix(ytrue, ypred)\n",
    "\n",
    "print('Accuracy Score (Gemma3:27b):', acc_score)\n",
    "print('classification Report:')\n",
    "print(clf_report)"
   ]
  },
  {
   "cell_type": "code",
   "execution_count": 15,
   "metadata": {},
   "outputs": [
    {
     "data": {
      "text/plain": [
       "Text(50.722222222222214, 0.5, 'LLM Labels')"
      ]
     },
     "execution_count": 15,
     "metadata": {},
     "output_type": "execute_result"
    },
    {
     "data": {
      "image/png": "[encoded data removed]",
      "text/plain": [
       "<Figure size 640x480 with 2 Axes>"
      ]
     },
     "metadata": {},
     "output_type": "display_data"
    }
   ],
   "source": [
    "sns.heatmap(cm, annot=True)\n",
    "plt.title('Confusion Matrix')\n",
    "plt.xlabel('Manual Labels')\n",
    "plt.ylabel('LLM Labels')"
   ]
  },
  {
   "cell_type": "code",
   "execution_count": null,
   "metadata": {},
   "outputs": [],
   "source": []
  }
 ],
 "metadata": {
  "kernelspec": {
   "display_name": "Python 3",
   "language": "python",
   "name": "python3"
  },
  "language_info": {
   "codemirror_mode": {
    "name": "ipython",
    "version": 3
   },
   "file_extension": ".py",
   "mimetype": "text/x-python",
   "name": "python",
   "nbconvert_exporter": "python",
   "pygments_lexer": "ipython3",
   "version": "3.9.11"
  }
 },
 "nbformat": 4,
 "nbformat_minor": 2
}
